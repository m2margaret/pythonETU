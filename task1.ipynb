{
 "cells": [
  {
   "cell_type": "code",
   "execution_count": 7,
   "id": "f77aec73-9019-4ccb-81ea-65956e131418",
   "metadata": {},
   "outputs": [],
   "source": [
    "import pandas as pd"
   ]
  },
  {
   "cell_type": "code",
   "execution_count": 8,
   "id": "6b16e69e-9275-4b4d-90bd-5f1d12632d97",
   "metadata": {},
   "outputs": [
    {
     "data": {
      "text/html": [
       "<div>\n",
       "<style scoped>\n",
       "    .dataframe tbody tr th:only-of-type {\n",
       "        vertical-align: middle;\n",
       "    }\n",
       "\n",
       "    .dataframe tbody tr th {\n",
       "        vertical-align: top;\n",
       "    }\n",
       "\n",
       "    .dataframe thead th {\n",
       "        text-align: right;\n",
       "    }\n",
       "</style>\n",
       "<table border=\"1\" class=\"dataframe\">\n",
       "  <thead>\n",
       "    <tr style=\"text-align: right;\">\n",
       "      <th></th>\n",
       "      <th>age</th>\n",
       "      <th>workClass</th>\n",
       "      <th>number</th>\n",
       "      <th>educationalDegrees</th>\n",
       "      <th>educationNum</th>\n",
       "      <th>maritalStatus</th>\n",
       "      <th>occupation</th>\n",
       "      <th>relationship</th>\n",
       "      <th>race</th>\n",
       "      <th>gender</th>\n",
       "      <th>capitalGain</th>\n",
       "      <th>capitalLoss</th>\n",
       "      <th>hoursPerWeek</th>\n",
       "      <th>nativeCountry</th>\n",
       "      <th>income</th>\n",
       "    </tr>\n",
       "  </thead>\n",
       "  <tbody>\n",
       "    <tr>\n",
       "      <th>0</th>\n",
       "      <td>39</td>\n",
       "      <td>State-gov</td>\n",
       "      <td>77516</td>\n",
       "      <td>Bachelors</td>\n",
       "      <td>13</td>\n",
       "      <td>Never-married</td>\n",
       "      <td>Adm-clerical</td>\n",
       "      <td>Not-in-family</td>\n",
       "      <td>White</td>\n",
       "      <td>Male</td>\n",
       "      <td>2174</td>\n",
       "      <td>0</td>\n",
       "      <td>40</td>\n",
       "      <td>United-States</td>\n",
       "      <td>&lt;=50K</td>\n",
       "    </tr>\n",
       "    <tr>\n",
       "      <th>1</th>\n",
       "      <td>50</td>\n",
       "      <td>Self-emp-not-inc</td>\n",
       "      <td>83311</td>\n",
       "      <td>Bachelors</td>\n",
       "      <td>13</td>\n",
       "      <td>Married-civ-spouse</td>\n",
       "      <td>Exec-managerial</td>\n",
       "      <td>Husband</td>\n",
       "      <td>White</td>\n",
       "      <td>Male</td>\n",
       "      <td>0</td>\n",
       "      <td>0</td>\n",
       "      <td>13</td>\n",
       "      <td>United-States</td>\n",
       "      <td>&lt;=50K</td>\n",
       "    </tr>\n",
       "    <tr>\n",
       "      <th>2</th>\n",
       "      <td>38</td>\n",
       "      <td>Private</td>\n",
       "      <td>215646</td>\n",
       "      <td>HS-grad</td>\n",
       "      <td>9</td>\n",
       "      <td>Divorced</td>\n",
       "      <td>Handlers-cleaners</td>\n",
       "      <td>Not-in-family</td>\n",
       "      <td>White</td>\n",
       "      <td>Male</td>\n",
       "      <td>0</td>\n",
       "      <td>0</td>\n",
       "      <td>40</td>\n",
       "      <td>United-States</td>\n",
       "      <td>&lt;=50K</td>\n",
       "    </tr>\n",
       "    <tr>\n",
       "      <th>3</th>\n",
       "      <td>53</td>\n",
       "      <td>Private</td>\n",
       "      <td>234721</td>\n",
       "      <td>11th</td>\n",
       "      <td>7</td>\n",
       "      <td>Married-civ-spouse</td>\n",
       "      <td>Handlers-cleaners</td>\n",
       "      <td>Husband</td>\n",
       "      <td>Black</td>\n",
       "      <td>Male</td>\n",
       "      <td>0</td>\n",
       "      <td>0</td>\n",
       "      <td>40</td>\n",
       "      <td>United-States</td>\n",
       "      <td>&lt;=50K</td>\n",
       "    </tr>\n",
       "    <tr>\n",
       "      <th>4</th>\n",
       "      <td>28</td>\n",
       "      <td>Private</td>\n",
       "      <td>338409</td>\n",
       "      <td>Bachelors</td>\n",
       "      <td>13</td>\n",
       "      <td>Married-civ-spouse</td>\n",
       "      <td>Prof-specialty</td>\n",
       "      <td>Wife</td>\n",
       "      <td>Black</td>\n",
       "      <td>Female</td>\n",
       "      <td>0</td>\n",
       "      <td>0</td>\n",
       "      <td>40</td>\n",
       "      <td>Cuba</td>\n",
       "      <td>&lt;=50K</td>\n",
       "    </tr>\n",
       "  </tbody>\n",
       "</table>\n",
       "</div>"
      ],
      "text/plain": [
       "   age          workClass  number educationalDegrees  educationNum  \\\n",
       "0   39          State-gov   77516          Bachelors            13   \n",
       "1   50   Self-emp-not-inc   83311          Bachelors            13   \n",
       "2   38            Private  215646            HS-grad             9   \n",
       "3   53            Private  234721               11th             7   \n",
       "4   28            Private  338409          Bachelors            13   \n",
       "\n",
       "         maritalStatus          occupation    relationship    race   gender  \\\n",
       "0        Never-married        Adm-clerical   Not-in-family   White     Male   \n",
       "1   Married-civ-spouse     Exec-managerial         Husband   White     Male   \n",
       "2             Divorced   Handlers-cleaners   Not-in-family   White     Male   \n",
       "3   Married-civ-spouse   Handlers-cleaners         Husband   Black     Male   \n",
       "4   Married-civ-spouse      Prof-specialty            Wife   Black   Female   \n",
       "\n",
       "   capitalGain  capitalLoss  hoursPerWeek   nativeCountry  income  \n",
       "0         2174            0            40   United-States   <=50K  \n",
       "1            0            0            13   United-States   <=50K  \n",
       "2            0            0            40   United-States   <=50K  \n",
       "3            0            0            40   United-States   <=50K  \n",
       "4            0            0            40            Cuba   <=50K  "
      ]
     },
     "execution_count": 8,
     "metadata": {},
     "output_type": "execute_result"
    }
   ],
   "source": [
    "df = pd.read_csv('adult/adult.data', header=None, names=['age', 'workClass', 'number', 'educationalDegrees', 'educationNum', 'maritalStatus', 'occupation', 'relationship', 'race', 'gender', 'capitalGain', 'capitalLoss', 'hoursPerWeek', 'nativeCountry', 'income'])\n",
    "df.head()"
   ]
  },
  {
   "cell_type": "code",
   "execution_count": 9,
   "id": "4d1e5c47-dd46-4209-be05-0261dcdda309",
   "metadata": {},
   "outputs": [
    {
     "name": "stdout",
     "output_type": "stream",
     "text": [
      "Number of columns: 15\n"
     ]
    }
   ],
   "source": [
    "print(f\"Number of columns: {len(df.columns)}\")"
   ]
  },
  {
   "cell_type": "code",
   "execution_count": 12,
   "id": "639f2e7c-d802-4fdb-b94d-d2aa8d79f632",
   "metadata": {},
   "outputs": [
    {
     "name": "stdout",
     "output_type": "stream",
     "text": [
      "\n",
      "There are no gaps in the data.\n"
     ]
    }
   ],
   "source": [
    "missingValues = df.isnull().sum()\n",
    "if missingValues.any():\n",
    "    print(\"\\nColumns with gaps:\")\n",
    "    for column in missingValues.index:\n",
    "        if missingValues[column] > 0:\n",
    "            print(column)\n",
    "else:\n",
    "    print(\"\\nThere are no gaps in the data.\")"
   ]
  },
  {
   "cell_type": "code",
   "execution_count": 13,
   "id": "abd1676a-1285-45f5-959d-12de3bc92196",
   "metadata": {},
   "outputs": [
    {
     "name": "stdout",
     "output_type": "stream",
     "text": [
      "The number of unique values in the column 'race': 5\n"
     ]
    }
   ],
   "source": [
    "uniqueRaces = df['race'].nunique()\n",
    "print(\"The number of unique values in the column 'race':\", uniqueRaces)"
   ]
  },
  {
   "cell_type": "code",
   "execution_count": 14,
   "id": "0ef63bed-75bf-4aab-b12a-7bba9934120e",
   "metadata": {},
   "outputs": [
    {
     "name": "stdout",
     "output_type": "stream",
     "text": [
      "Median `hoursPerWeek`: 40.0\n"
     ]
    }
   ],
   "source": [
    "print(f\"Median `hoursPerWeek`: {df['hoursPerWeek'].median()}\")"
   ]
  },
  {
   "cell_type": "code",
   "execution_count": 15,
   "id": "c88a2fa4-a456-4ddd-a5d7-79e9420db98f",
   "metadata": {},
   "outputs": [
    {
     "name": "stdout",
     "output_type": "stream",
     "text": [
      "Men and women with income >50K have the same number.\n"
     ]
    }
   ],
   "source": [
    "highIncome = df[df['income'] == '>50K']\n",
    "menCount = highIncome[highIncome['gender'] == 'Male'].shape[0]\n",
    "womenCount = highIncome[highIncome['gender'] == 'Female'].shape[0]\n",
    "if menCount > womenCount:\n",
    "    print(\"More men with income >50K\")\n",
    "elif womenCount > menCount:\n",
    "    print(\"More women with income >50K\")\n",
    "else:\n",
    "    print(\"Men and women with income >50K have the same number.\")"
   ]
  },
  {
   "cell_type": "code",
   "execution_count": 20,
   "id": "aa46b4c1-7c91-41cb-af9d-faac1daa0701",
   "metadata": {},
   "outputs": [
    {
     "name": "stdout",
     "output_type": "stream",
     "text": [
      "      educationalDegrees        maritalStatus   nativeCountry\n",
      "0              Bachelors        Never-married   United-States\n",
      "1              Bachelors   Married-civ-spouse   United-States\n",
      "2                HS-grad             Divorced   United-States\n",
      "3                   11th   Married-civ-spouse   United-States\n",
      "4              Bachelors   Married-civ-spouse            Cuba\n",
      "...                  ...                  ...             ...\n",
      "32556         Assoc-acdm   Married-civ-spouse   United-States\n",
      "32557            HS-grad   Married-civ-spouse   United-States\n",
      "32558            HS-grad              Widowed   United-States\n",
      "32559            HS-grad        Never-married   United-States\n",
      "32560            HS-grad   Married-civ-spouse   United-States\n",
      "\n",
      "[32561 rows x 3 columns]\n"
     ]
    }
   ],
   "source": [
    "columns = ['educationalDegrees', 'maritalStatus', 'nativeCountry']\n",
    "for col in columns:\n",
    "    mostСommon = df[col].mode()[0]\n",
    "    df.replace({col: ' ?'}, mostСommon, inplace=True) \n",
    "print(df[['educationalDegrees', 'maritalStatus', 'nativeCountry']])  \n",
    "#пропущенные данные можно было заполнить предыдущим или последующим значением в столбце"
   ]
  },
  {
   "cell_type": "code",
   "execution_count": null,
   "id": "0dfee7ec-28f2-420b-89dd-54c78553a060",
   "metadata": {},
   "outputs": [],
   "source": []
  }
 ],
 "metadata": {
  "kernelspec": {
   "display_name": "Python 3 (ipykernel)",
   "language": "python",
   "name": "python3"
  },
  "language_info": {
   "codemirror_mode": {
    "name": "ipython",
    "version": 3
   },
   "file_extension": ".py",
   "mimetype": "text/x-python",
   "name": "python",
   "nbconvert_exporter": "python",
   "pygments_lexer": "ipython3",
   "version": "3.12.6"
  }
 },
 "nbformat": 4,
 "nbformat_minor": 5
}
