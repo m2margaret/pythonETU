{
 "cells": [
  {
   "cell_type": "code",
   "execution_count": 33,
   "id": "2a605b6f-e563-42e5-8ebd-b9512725709b",
   "metadata": {},
   "outputs": [],
   "source": [
    "import pandas as pd\n",
    "from sklearn.model_selection import train_test_split\n",
    "from sklearn.linear_model import LinearRegression\n",
    "from sklearn.metrics import mean_absolute_error, r2_score\n",
    "from sklearn.impute import SimpleImputer\n",
    "from sklearn.feature_selection import mutual_info_classif\n",
    "from sklearn.preprocessing import LabelEncoder, OneHotEncoder\n",
    "from sklearn.preprocessing import OneHotEncoder\n",
    "from sklearn.metrics import accuracy_score\n",
    "import pickle"
   ]
  },
  {
   "cell_type": "code",
   "execution_count": 34,
   "id": "1756b6e9-481d-470b-9401-2d53830f44ff",
   "metadata": {},
   "outputs": [
    {
     "data": {
      "text/html": [
       "<div>\n",
       "<style scoped>\n",
       "    .dataframe tbody tr th:only-of-type {\n",
       "        vertical-align: middle;\n",
       "    }\n",
       "\n",
       "    .dataframe tbody tr th {\n",
       "        vertical-align: top;\n",
       "    }\n",
       "\n",
       "    .dataframe thead th {\n",
       "        text-align: right;\n",
       "    }\n",
       "</style>\n",
       "<table border=\"1\" class=\"dataframe\">\n",
       "  <thead>\n",
       "    <tr style=\"text-align: right;\">\n",
       "      <th></th>\n",
       "      <th>age</th>\n",
       "      <th>job</th>\n",
       "      <th>marital</th>\n",
       "      <th>education</th>\n",
       "      <th>default</th>\n",
       "      <th>balance</th>\n",
       "      <th>housing</th>\n",
       "      <th>loan</th>\n",
       "      <th>contact</th>\n",
       "      <th>day</th>\n",
       "      <th>month</th>\n",
       "      <th>duration</th>\n",
       "      <th>campaign</th>\n",
       "      <th>pdays</th>\n",
       "      <th>previous</th>\n",
       "      <th>poutcome</th>\n",
       "      <th>y</th>\n",
       "    </tr>\n",
       "  </thead>\n",
       "  <tbody>\n",
       "    <tr>\n",
       "      <th>0</th>\n",
       "      <td>58</td>\n",
       "      <td>management</td>\n",
       "      <td>married</td>\n",
       "      <td>tertiary</td>\n",
       "      <td>no</td>\n",
       "      <td>2143</td>\n",
       "      <td>yes</td>\n",
       "      <td>no</td>\n",
       "      <td>unknown</td>\n",
       "      <td>5</td>\n",
       "      <td>may</td>\n",
       "      <td>261</td>\n",
       "      <td>1</td>\n",
       "      <td>-1</td>\n",
       "      <td>0</td>\n",
       "      <td>unknown</td>\n",
       "      <td>no</td>\n",
       "    </tr>\n",
       "    <tr>\n",
       "      <th>1</th>\n",
       "      <td>44</td>\n",
       "      <td>technician</td>\n",
       "      <td>single</td>\n",
       "      <td>secondary</td>\n",
       "      <td>no</td>\n",
       "      <td>29</td>\n",
       "      <td>yes</td>\n",
       "      <td>no</td>\n",
       "      <td>unknown</td>\n",
       "      <td>5</td>\n",
       "      <td>may</td>\n",
       "      <td>151</td>\n",
       "      <td>1</td>\n",
       "      <td>-1</td>\n",
       "      <td>0</td>\n",
       "      <td>unknown</td>\n",
       "      <td>no</td>\n",
       "    </tr>\n",
       "    <tr>\n",
       "      <th>2</th>\n",
       "      <td>33</td>\n",
       "      <td>entrepreneur</td>\n",
       "      <td>married</td>\n",
       "      <td>secondary</td>\n",
       "      <td>no</td>\n",
       "      <td>2</td>\n",
       "      <td>yes</td>\n",
       "      <td>yes</td>\n",
       "      <td>unknown</td>\n",
       "      <td>5</td>\n",
       "      <td>may</td>\n",
       "      <td>76</td>\n",
       "      <td>1</td>\n",
       "      <td>-1</td>\n",
       "      <td>0</td>\n",
       "      <td>unknown</td>\n",
       "      <td>no</td>\n",
       "    </tr>\n",
       "    <tr>\n",
       "      <th>3</th>\n",
       "      <td>47</td>\n",
       "      <td>blue-collar</td>\n",
       "      <td>married</td>\n",
       "      <td>unknown</td>\n",
       "      <td>no</td>\n",
       "      <td>1506</td>\n",
       "      <td>yes</td>\n",
       "      <td>no</td>\n",
       "      <td>unknown</td>\n",
       "      <td>5</td>\n",
       "      <td>may</td>\n",
       "      <td>92</td>\n",
       "      <td>1</td>\n",
       "      <td>-1</td>\n",
       "      <td>0</td>\n",
       "      <td>unknown</td>\n",
       "      <td>no</td>\n",
       "    </tr>\n",
       "    <tr>\n",
       "      <th>4</th>\n",
       "      <td>33</td>\n",
       "      <td>unknown</td>\n",
       "      <td>single</td>\n",
       "      <td>unknown</td>\n",
       "      <td>no</td>\n",
       "      <td>1</td>\n",
       "      <td>no</td>\n",
       "      <td>no</td>\n",
       "      <td>unknown</td>\n",
       "      <td>5</td>\n",
       "      <td>may</td>\n",
       "      <td>198</td>\n",
       "      <td>1</td>\n",
       "      <td>-1</td>\n",
       "      <td>0</td>\n",
       "      <td>unknown</td>\n",
       "      <td>no</td>\n",
       "    </tr>\n",
       "  </tbody>\n",
       "</table>\n",
       "</div>"
      ],
      "text/plain": [
       "   age           job  marital  education default  balance housing loan  \\\n",
       "0   58    management  married   tertiary      no     2143     yes   no   \n",
       "1   44    technician   single  secondary      no       29     yes   no   \n",
       "2   33  entrepreneur  married  secondary      no        2     yes  yes   \n",
       "3   47   blue-collar  married    unknown      no     1506     yes   no   \n",
       "4   33       unknown   single    unknown      no        1      no   no   \n",
       "\n",
       "   contact  day month  duration  campaign  pdays  previous poutcome   y  \n",
       "0  unknown    5   may       261         1     -1         0  unknown  no  \n",
       "1  unknown    5   may       151         1     -1         0  unknown  no  \n",
       "2  unknown    5   may        76         1     -1         0  unknown  no  \n",
       "3  unknown    5   may        92         1     -1         0  unknown  no  \n",
       "4  unknown    5   may       198         1     -1         0  unknown  no  "
      ]
     },
     "execution_count": 34,
     "metadata": {},
     "output_type": "execute_result"
    }
   ],
   "source": [
    "data = pd.read_csv('bank-full.csv', sep=';') \n",
    "data.head()"
   ]
  },
  {
   "cell_type": "code",
   "execution_count": 35,
   "id": "34aae243-9e44-4514-8b58-f88ec4180625",
   "metadata": {},
   "outputs": [
    {
     "name": "stdout",
     "output_type": "stream",
     "text": [
      "   age           job  marital  education  balance housing  contact  day month  \\\n",
      "0   58    management  married   tertiary     2143     yes  unknown    5   may   \n",
      "1   44    technician   single  secondary       29     yes  unknown    5   may   \n",
      "2   33  entrepreneur  married  secondary        2     yes  unknown    5   may   \n",
      "3   47   blue-collar  married    unknown     1506     yes  unknown    5   may   \n",
      "4   33       unknown   single    unknown        1      no  unknown    5   may   \n",
      "\n",
      "   duration  campaign  pdays  previous poutcome   y  \n",
      "0       261         1     -1         0  unknown  no  \n",
      "1       151         1     -1         0  unknown  no  \n",
      "2        76         1     -1         0  unknown  no  \n",
      "3        92         1     -1         0  unknown  no  \n",
      "4       198         1     -1         0  unknown  no  \n"
     ]
    }
   ],
   "source": [
    "# Выбираем нужные признаки\n",
    "selected_features = ['age', 'job', 'marital', 'education', 'balance', 'housing', 'contact', 'day', 'month', 'duration', 'campaign', 'pdays', 'previous', 'poutcome', 'y']\n",
    "data = data[selected_features]\n",
    "print(data.head())"
   ]
  },
  {
   "cell_type": "code",
   "execution_count": 36,
   "id": "15203e71-b10c-4d72-b272-c6cfec5dc578",
   "metadata": {},
   "outputs": [
    {
     "name": "stdout",
     "output_type": "stream",
     "text": [
      "age          0\n",
      "job          0\n",
      "marital      0\n",
      "education    0\n",
      "balance      0\n",
      "housing      0\n",
      "contact      0\n",
      "day          0\n",
      "month        0\n",
      "duration     0\n",
      "campaign     0\n",
      "pdays        0\n",
      "previous     0\n",
      "poutcome     0\n",
      "y            0\n",
      "dtype: int64\n"
     ]
    }
   ],
   "source": [
    "# Проверяем наличие пропущенных значений\n",
    "print(data.isnull().sum())"
   ]
  },
  {
   "cell_type": "code",
   "execution_count": 37,
   "id": "38511b78-7671-4d56-973f-ceed6e0ed115",
   "metadata": {},
   "outputs": [
    {
     "name": "stdout",
     "output_type": "stream",
     "text": [
      "Самое частое значение в столбце 'education': secondary\n"
     ]
    }
   ],
   "source": [
    "# Находим самое частое значение\n",
    "education_column = data['education']\n",
    "mode_value = education_column.mode()[0]\n",
    "print(f\"Самое частое значение в столбце 'education': {mode_value}\")"
   ]
  },
  {
   "cell_type": "code",
   "execution_count": 38,
   "id": "c3a19fc3-23aa-48e0-8ffc-d528a623b0bc",
   "metadata": {},
   "outputs": [
    {
     "name": "stdout",
     "output_type": "stream",
     "text": [
      "               age   balance       day  duration  campaign     pdays  previous\n",
      "age       1.000000  0.097783 -0.009120 -0.004648  0.004760 -0.023758  0.001288\n",
      "balance   0.097783  1.000000  0.004503  0.021560 -0.014578  0.003435  0.016674\n",
      "day      -0.009120  0.004503  1.000000 -0.030206  0.162490 -0.093044 -0.051710\n",
      "duration -0.004648  0.021560 -0.030206  1.000000 -0.084570 -0.001565  0.001203\n",
      "campaign  0.004760 -0.014578  0.162490 -0.084570  1.000000 -0.088628 -0.032855\n",
      "pdays    -0.023758  0.003435 -0.093044 -0.001565 -0.088628  1.000000  0.454820\n",
      "previous  0.001288  0.016674 -0.051710  0.001203 -0.032855  0.454820  1.000000\n",
      "Наибольшая корреляция: 0.4548196354805043 между pdays и previous\n"
     ]
    }
   ],
   "source": [
    "selected_features = ['age', 'balance', 'day', 'duration', 'campaign', 'pdays', 'previous']\n",
    "data = data[selected_features]\n",
    "# Создаем корреляционную матрицу\n",
    "correlation_matrix = data.corr()\n",
    "print(correlation_matrix)\n",
    "\n",
    "# Найдём пару признаков с наибольшей корреляцией\n",
    "max_correlation = 0\n",
    "correlated_features = ('', '')\n",
    "for i in range(len(correlation_matrix.columns)):\n",
    "    for j in range(i + 1, len(correlation_matrix.columns)):\n",
    "        correlation = abs(correlation_matrix.iloc[i, j])  # берем модуль\n",
    "        if correlation > max_correlation:\n",
    "            max_correlation = correlation\n",
    "            correlated_features = (correlation_matrix.columns[i], correlation_matrix.columns[j])\n",
    "\n",
    "print(f\"Наибольшая корреляция: {max_correlation} между {correlated_features[0]} и {correlated_features[1]}\")"
   ]
  },
  {
   "cell_type": "code",
   "execution_count": 39,
   "id": "141b13e2-17a3-4c7d-8acb-2ade8258369f",
   "metadata": {},
   "outputs": [
    {
     "name": "stdout",
     "output_type": "stream",
     "text": [
      "   age           job  marital  education  balance housing  contact  day month  \\\n",
      "0   58    management  married   tertiary     2143     yes  unknown    5   may   \n",
      "1   44    technician   single  secondary       29     yes  unknown    5   may   \n",
      "2   33  entrepreneur  married  secondary        2     yes  unknown    5   may   \n",
      "3   47   blue-collar  married    unknown     1506     yes  unknown    5   may   \n",
      "4   33       unknown   single    unknown        1      no  unknown    5   may   \n",
      "\n",
      "   duration  campaign  pdays  previous poutcome  y  \n",
      "0       261         1     -1         0  unknown  0  \n",
      "1       151         1     -1         0  unknown  0  \n",
      "2        76         1     -1         0  unknown  0  \n",
      "3        92         1     -1         0  unknown  0  \n",
      "4       198         1     -1         0  unknown  0  \n"
     ]
    }
   ],
   "source": [
    "data = pd.read_csv('bank-full.csv', sep=';')\n",
    "\n",
    "selected_features = ['age', 'job', 'marital', 'education', 'balance', 'housing', 'contact', 'day', 'month', 'duration', 'campaign', 'pdays', 'previous', 'poutcome', 'y']\n",
    "data = data[selected_features]\n",
    "\n",
    "# Заменяем 'yes' на 1 и 'no' на 0 в столбце 'y'\n",
    "data['y'] = data['y'].map({'yes': 1, 'no': 0})\n",
    "print(data.head())"
   ]
  },
  {
   "cell_type": "code",
   "execution_count": 40,
   "id": "f4dcdf23-92e1-4868-ab27-e4624cd0c281",
   "metadata": {},
   "outputs": [
    {
     "name": "stdout",
     "output_type": "stream",
     "text": [
      "Тренировочный набор: (27126, 7), (27126,)\n",
      "Валидационный набор: (9042, 7), (9042,)\n",
      "Тестовый набор: (9043, 7), (9043,)\n",
      "           Mutual Information\n",
      "job                      0.01\n",
      "marital                  0.00\n",
      "education                0.00\n",
      "housing                  0.01\n",
      "contact                  0.01\n",
      "month                    0.02\n",
      "poutcome                 0.03\n",
      "\n",
      "Переменная с наибольшей взаимной информацией: poutcome\n"
     ]
    }
   ],
   "source": [
    "label_encoder = LabelEncoder()\n",
    "for column in data.select_dtypes(include=['object']):\n",
    "    data[column] = label_encoder.fit_transform(data[column])\n",
    "\n",
    "selected_features = ['job', 'marital', 'education', 'housing', 'contact', 'month', 'poutcome']\n",
    "X = data[selected_features]\n",
    "\n",
    "y = data['y']\n",
    "\n",
    "# Разделяем данные на тренировочный, валидационный и тестовый наборы\n",
    "X_train, X_temp, y_train, y_temp = train_test_split(X, y, test_size=0.4, random_state=42) \n",
    "X_val, X_test, y_val, y_test = train_test_split(X_temp, y_temp, test_size=0.5, random_state=42)\n",
    "\n",
    "print(f\"Тренировочный набор: {X_train.shape}, {y_train.shape}\")\n",
    "print(f\"Валидационный набор: {X_val.shape}, {y_val.shape}\")\n",
    "print(f\"Тестовый набор: {X_test.shape}, {y_test.shape}\")\n",
    "\n",
    "mutual_info = mutual_info_classif(X_train, y_train, discrete_features=True)\n",
    "\n",
    "mutual_info_df = pd.DataFrame(mutual_info, index=X_train.columns, columns=['Mutual Information'])\n",
    "mutual_info_df['Mutual Information'] = mutual_info_df['Mutual Information'].round(2)\n",
    "print(mutual_info_df)\n",
    "\n",
    "# Находим переменную с наибольшей взаимной информацией\n",
    "max_mutual_info_index = mutual_info_df['Mutual Information'].idxmax()\n",
    "print(f\"\\nПеременная с наибольшей взаимной информацией: {max_mutual_info_index}\")"
   ]
  },
  {
   "cell_type": "code",
   "execution_count": 42,
   "id": "d57b7e4b-3c74-41d7-a638-f7fc4d2b13d2",
   "metadata": {},
   "outputs": [
    {
     "name": "stdout",
     "output_type": "stream",
     "text": [
      "Точность на валидационном наборе: 0.89\n"
     ]
    }
   ],
   "source": [
    "ohe = OneHotEncoder(handle_unknown='ignore') \n",
    "X_train = ohe.fit_transform(X_train)\n",
    "X_val = ohe.transform(X_val)\n",
    "\n",
    "model = LogisticRegression(solver='liblinear', C=1.0, max_iter=1000, random_state=42)\n",
    "model.fit(X_train, y_train)\n",
    "\n",
    "y_pred = model.predict(X_val)\n",
    "\n",
    "# Рассчитываем точность\n",
    "accuracy = accuracy_score(y_val, y_pred)\n",
    "print(f\"Точность на валидационном наборе: {accuracy:.2f}\")"
   ]
  },
  {
   "cell_type": "code",
   "execution_count": 45,
   "id": "33d527d5-2345-4ba8-94e7-8e8d647b19fd",
   "metadata": {},
   "outputs": [
    {
     "name": "stdout",
     "output_type": "stream",
     "text": [
      "          Mutual Info\n",
      "duration     0.070204\n",
      "poutcome     0.035164\n",
      "pdays        0.027057\n",
      "month        0.024059\n",
      "balance      0.019416\n"
     ]
    }
   ],
   "source": [
    "label_encoder = LabelEncoder()\n",
    "for column in data.select_dtypes(include=['object']):\n",
    "    data[column] = label_encoder.fit_transform(data[column])\n",
    "\n",
    "selected_features = ['job', 'marital', 'education', 'housing', 'contact', 'month', 'poutcome', 'age', 'balance', 'previous', 'duration', 'pdays', 'campaign']\n",
    "X = data[selected_features]\n",
    "\n",
    "y = data['y']\n",
    "\n",
    "X_train, X_temp, y_train, y_temp = train_test_split(X, y, test_size=0.4, random_state=42) \n",
    "X_val, X_test, y_val, y_test = train_test_split(X_temp, y_temp, test_size=0.5, random_state=42)\n",
    "categorical_cols = X.select_dtypes(include=['object']).columns\n",
    "\n",
    "encoder = OneHotEncoder(sparse_output=False, drop='first')\n",
    "X_encoded = encoder.fit_transform(X[categorical_cols])\n",
    "\n",
    "feature_names = encoder.get_feature_names_out(categorical_cols)\n",
    "\n",
    "X_train_df = pd.DataFrame(X_encoded, columns=feature_names)\n",
    "\n",
    "numeric_cols = X.select_dtypes(include=['number']).columns\n",
    "\n",
    "X_train_df = pd.concat([X_train_df, X[numeric_cols].reset_index(drop=True)], axis=1)\n",
    "\n",
    "X_train, X_test, y_train, y_test = train_test_split(X_train_df, y, test_size=0.2, random_state=42)\n",
    "\n",
    "mutual_info = mutual_info_classif(X_train, y_train)\n",
    "\n",
    "mutual_info_df = pd.DataFrame(mutual_info, index=X_train.columns, columns=['Mutual Info']).sort_values(by='Mutual Info', ascending=False)\n",
    "\n",
    "print(mutual_info_df.head())"
   ]
  },
  {
   "cell_type": "code",
   "execution_count": 46,
   "id": "cc399822-bf36-4c7e-83f8-ab04a3c51b6f",
   "metadata": {},
   "outputs": [
    {
     "name": "stdout",
     "output_type": "stream",
     "text": [
      "Точность для C = 0.01: 0.890\n",
      "Точность для C = 0.1: 0.891\n",
      "Точность для C = 1: 0.890\n",
      "Точность для C = 10: 0.891\n",
      "\n",
      "Наилучшая точность: 0.891 (C = 0.1)\n"
     ]
    }
   ],
   "source": [
    "C_values = [0.01, 0.1, 1, 10]\n",
    "best_accuracy = 0\n",
    "best_C = None\n",
    "\n",
    "for C in C_values:\n",
    "    model = LogisticRegression(solver='liblinear', C=C, max_iter=1000, random_state=42)\n",
    "    model.fit(X_train, y_train)\n",
    "\n",
    "    y_pred = model.predict(X_val)\n",
    "\n",
    "    accuracy = accuracy_score(y_val, y_pred)\n",
    "    print(f\"Точность для C = {C}: {accuracy:.3f}\")\n",
    "\n",
    "    if accuracy > best_accuracy:\n",
    "        best_accuracy = accuracy\n",
    "        best_C = C\n",
    "\n",
    "print(f\"\\nНаилучшая точность: {best_accuracy:.3f} (C = {best_C})\")"
   ]
  },
  {
   "cell_type": "code",
   "execution_count": null,
   "id": "3143000b-346a-468e-af2e-859c5977382a",
   "metadata": {},
   "outputs": [],
   "source": []
  }
 ],
 "metadata": {
  "kernelspec": {
   "display_name": "Python 3 (ipykernel)",
   "language": "python",
   "name": "python3"
  },
  "language_info": {
   "codemirror_mode": {
    "name": "ipython",
    "version": 3
   },
   "file_extension": ".py",
   "mimetype": "text/x-python",
   "name": "python",
   "nbconvert_exporter": "python",
   "pygments_lexer": "ipython3",
   "version": "3.12.6"
  }
 },
 "nbformat": 4,
 "nbformat_minor": 5
}
